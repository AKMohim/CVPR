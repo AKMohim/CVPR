{
  "nbformat": 4,
  "nbformat_minor": 0,
  "metadata": {
    "colab": {
      "provenance": []
    },
    "kernelspec": {
      "name": "python3",
      "display_name": "Python 3"
    },
    "language_info": {
      "name": "python"
    }
  },
  "cells": [
    {
      "cell_type": "code",
      "source": [
        "import numpy as np\n",
        "import tensorflow as tf\n",
        "from tensorflow import keras\n",
        "from tensorflow.keras import layers\n",
        "import os\n",
        "import numpy as np\n",
        "import cv2\n",
        "from sklearn.preprocessing import LabelEncoder\n",
        "from sklearn.model_selection import train_test_split\n",
        "from tensorflow.keras.utils import to_categorical\n",
        "import pickle\n"
      ],
      "metadata": {
        "id": "RmfYFge277Ci"
      },
      "execution_count": null,
      "outputs": []
    },
    {
      "cell_type": "code",
      "source": [
        "from google.colab import drive\n",
        "drive.mount('/content/drive')\n",
        "\n",
        "# Define paths for dataset and outputs\n",
        "dataset_path = '/content/drive/My Drive/dataset/'  # Adjust this path as per your data location\n",
        "output_path = '/content/drive/My Drive/'  # Adjust this path for saving models/pickles\n"
      ],
      "metadata": {
        "colab": {
          "base_uri": "https://localhost:8080/"
        },
        "id": "w3Nxg5L477er",
        "outputId": "e590f7a5-b51b-4be0-a35b-173cb768f2b4"
      },
      "execution_count": null,
      "outputs": [
        {
          "output_type": "stream",
          "name": "stdout",
          "text": [
            "Mounted at /content/drive\n"
          ]
        }
      ]
    },
    {
      "cell_type": "code",
      "source": [
        "\n",
        "\n",
        "IMG_SIZE = 128  # Target image size for resizing\n",
        "haarcascade_path = cv2.data.haarcascades + 'haarcascade_frontalface_default.xml'  # Haar cascade path\n",
        "\n",
        "# Load Haar cascade for face detection\n",
        "face_cascade = cv2.CascadeClassifier(haarcascade_path)\n",
        "\n",
        "# Prepare dataset\n",
        "categories = os.listdir(dataset_path)  # Class names are the folder names\n",
        "print(\"Categories:\", categories)\n",
        "\n",
        "data = []\n",
        "labels = []\n",
        "\n",
        "# Process each category folder\n",
        "for category in categories:\n",
        "    folder_path = os.path.join(dataset_path, category)\n",
        "    for img_name in os.listdir(folder_path):\n",
        "        try:\n",
        "            img_path = os.path.join(folder_path, img_name)\n",
        "            img_array = cv2.imread(img_path)  # Load image\n",
        "            if img_array is None:\n",
        "                print(f\"Failed to load {img_path}\")\n",
        "                continue\n",
        "\n",
        "            # Convert to grayscale for face detection\n",
        "            gray_img = cv2.cvtColor(img_array, cv2.COLOR_BGR2GRAY)\n",
        "            faces = face_cascade.detectMultiScale(gray_img, scaleFactor=1.1, minNeighbors=5, minSize=(30, 30))\n",
        "\n",
        "            # Crop the first detected face (if any)\n",
        "            if len(faces) > 0:\n",
        "                x, y, w, h = faces[0]  # Taking the first detected face\n",
        "                face = img_array[y:y + h, x:x + w]\n",
        "                face = cv2.resize(face, (IMG_SIZE, IMG_SIZE))  # Resize to target size\n",
        "                data.append(face)\n",
        "                labels.append(category)  # Label as folder name\n",
        "            else:\n",
        "                print(f\"No face detected in {img_path}\")\n",
        "        except Exception as e:\n",
        "            print(f\"Error processing {img_path}: {e}\")\n",
        "\n",
        "# Convert to numpy arrays\n",
        "data = np.array(data, dtype=np.float32) / 255.0  # Normalize pixel values\n",
        "labels = np.array(labels)\n",
        "\n",
        "# Encode labels\n",
        "le = LabelEncoder()\n",
        "labels = le.fit_transform(labels)\n",
        "\n",
        "# Save category mapping for later use\n",
        "category_names = {i: cat for i, cat in enumerate(le.classes_)}\n",
        "with open(\"categories.pkl\", \"wb\") as file:\n",
        "    pickle.dump(category_names, file)\n",
        "print(\"Category mapping saved:\", category_names)\n",
        "\n",
        "\n"
      ],
      "metadata": {
        "colab": {
          "base_uri": "https://localhost:8080/"
        },
        "id": "RkGgNkll776V",
        "outputId": "6515a50e-4484-4a4f-e6f7-737bdd06217d"
      },
      "execution_count": null,
      "outputs": [
        {
          "output_type": "stream",
          "name": "stdout",
          "text": [
            "Categories: ['Faysal', 'Tareq', 'Tanzil', 'Mohim']\n",
            "No face detected in /content/drive/My Drive/dataset/Faysal/Faysal (161).jpg\n",
            "No face detected in /content/drive/My Drive/dataset/Faysal/Faysal (158).jpg\n",
            "No face detected in /content/drive/My Drive/dataset/Faysal/Faysal (159).jpg\n",
            "No face detected in /content/drive/My Drive/dataset/Tareq/Tareq) (97).jpg\n",
            "No face detected in /content/drive/My Drive/dataset/Tareq/Tareq) (96).jpg\n",
            "No face detected in /content/drive/My Drive/dataset/Tareq/Tareq) (71).jpg\n",
            "No face detected in /content/drive/My Drive/dataset/Tareq/Tareq) (94).jpg\n",
            "No face detected in /content/drive/My Drive/dataset/Tareq/Tareq) (103).jpg\n",
            "No face detected in /content/drive/My Drive/dataset/Tareq/Tareq) (57).jpg\n",
            "No face detected in /content/drive/My Drive/dataset/Tareq/Tareq) (93).jpg\n",
            "No face detected in /content/drive/My Drive/dataset/Tareq/Tareq) (56).jpg\n",
            "No face detected in /content/drive/My Drive/dataset/Tareq/Tareq) (43).jpg\n",
            "No face detected in /content/drive/My Drive/dataset/Tareq/Tareq) (60).jpg\n",
            "No face detected in /content/drive/My Drive/dataset/Tareq/Tareq) (167).jpg\n",
            "No face detected in /content/drive/My Drive/dataset/Tareq/Tareq) (168).jpg\n",
            "No face detected in /content/drive/My Drive/dataset/Tareq/Tareq) (162).jpg\n",
            "No face detected in /content/drive/My Drive/dataset/Tareq/Tareq) (2).jpg\n",
            "No face detected in /content/drive/My Drive/dataset/Tareq/Tareq) (164).jpg\n",
            "No face detected in /content/drive/My Drive/dataset/Tareq/Tareq) (165).jpg\n",
            "No face detected in /content/drive/My Drive/dataset/Tareq/Tareq) (161).jpg\n",
            "No face detected in /content/drive/My Drive/dataset/Tareq/Tareq) (59).jpg\n",
            "No face detected in /content/drive/My Drive/dataset/Tareq/Tareq) (163).jpg\n",
            "No face detected in /content/drive/My Drive/dataset/Tanzil/Tanzil (89).jpg\n",
            "No face detected in /content/drive/My Drive/dataset/Tanzil/Tanzil (21).jpg\n",
            "No face detected in /content/drive/My Drive/dataset/Tanzil/Tanzil (5).jpg\n",
            "No face detected in /content/drive/My Drive/dataset/Tanzil/Tanzil (90).jpg\n",
            "No face detected in /content/drive/My Drive/dataset/Tanzil/Tanzil (9).jpg\n",
            "No face detected in /content/drive/My Drive/dataset/Mohim/Mohim (163).jpg\n",
            "No face detected in /content/drive/My Drive/dataset/Mohim/Mohim (164).jpg\n",
            "No face detected in /content/drive/My Drive/dataset/Mohim/Mohim (166).jpg\n",
            "No face detected in /content/drive/My Drive/dataset/Mohim/Mohim (165).jpg\n",
            "No face detected in /content/drive/My Drive/dataset/Mohim/Mohim (168).jpg\n",
            "No face detected in /content/drive/My Drive/dataset/Mohim/Mohim (169).jpg\n",
            "No face detected in /content/drive/My Drive/dataset/Mohim/Mohim (171).jpg\n",
            "No face detected in /content/drive/My Drive/dataset/Mohim/Mohim (170).jpg\n",
            "No face detected in /content/drive/My Drive/dataset/Mohim/Mohim (172).jpg\n",
            "No face detected in /content/drive/My Drive/dataset/Mohim/Mohim (173).jpg\n",
            "No face detected in /content/drive/My Drive/dataset/Mohim/Mohim (176).jpg\n",
            "No face detected in /content/drive/My Drive/dataset/Mohim/Mohim (180).jpg\n",
            "No face detected in /content/drive/My Drive/dataset/Mohim/Mohim (177).jpg\n",
            "No face detected in /content/drive/My Drive/dataset/Mohim/Mohim (179).jpg\n",
            "No face detected in /content/drive/My Drive/dataset/Mohim/Mohim (181).jpg\n",
            "No face detected in /content/drive/My Drive/dataset/Mohim/Mohim (182).jpg\n",
            "No face detected in /content/drive/My Drive/dataset/Mohim/Mohim (184).jpg\n",
            "Category mapping saved: {0: 'Faysal', 1: 'Mohim', 2: 'Tanzil', 3: 'Tareq'}\n"
          ]
        }
      ]
    },
    {
      "cell_type": "code",
      "source": [
        "import random\n",
        "import matplotlib.pyplot as plt\n",
        "\n",
        "# Select 20 random indices from the dataset\n",
        "random_indices = random.sample(range(len(data)), 20)\n",
        "\n",
        "# Plot the images with their labels\n",
        "plt.figure(figsize=(15, 10))\n",
        "\n",
        "for i, idx in enumerate(random_indices):\n",
        "    plt.subplot(4, 5, i + 1)\n",
        "    plt.imshow(data[idx])  # Display the image\n",
        "    plt.title(f\" {category_names[labels[idx]]}\")  # Show the label\n",
        "    plt.axis('off')  # Turn off axes for better visualization\n",
        "\n",
        "plt.tight_layout()\n",
        "plt.show()\n"
      ],
      "metadata": {
        "id": "feXwzlr_CUUx"
      },
      "execution_count": null,
      "outputs": []
    },
    {
      "cell_type": "code",
      "source": [
        "# Split the data\n",
        "X_train, X_val, y_train, y_val = train_test_split(\n",
        "    data, labels, test_size=0.2, stratify=labels, random_state=42\n",
        ")\n",
        "\n",
        "# Convert labels to categorical (one-hot encoding)\n",
        "y_train = to_categorical(y_train, num_classes=len(categories))\n",
        "y_val = to_categorical(y_val, num_classes=len(categories))\n",
        "\n",
        "# Print dataset shapes\n",
        "print(\"Training data shape:\", X_train.shape)\n",
        "print(\"Validation data shape:\", X_val.shape)\n",
        "print(\"Training labels shape:\", y_train.shape)\n",
        "print(\"Validation labels shape:\", y_val.shape)"
      ],
      "metadata": {
        "colab": {
          "base_uri": "https://localhost:8080/"
        },
        "id": "aypJfC-B78Y6",
        "outputId": "0f0824ae-d242-4e51-d914-e87dd17df351"
      },
      "execution_count": null,
      "outputs": [
        {
          "output_type": "stream",
          "name": "stdout",
          "text": [
            "Training data shape: (422, 128, 128, 3)\n",
            "Validation data shape: (106, 128, 128, 3)\n",
            "Training labels shape: (422, 4)\n",
            "Validation labels shape: (106, 4)\n"
          ]
        }
      ]
    },
    {
      "cell_type": "code",
      "source": [
        "from tensorflow.keras.models import Sequential\n",
        "from tensorflow.keras.layers import Conv2D, MaxPooling2D, Flatten, Dense, Dropout\n",
        "\n",
        "model = Sequential([\n",
        "    Conv2D(32, (3, 3), activation='relu', input_shape=(128, 128, 3)),\n",
        "    MaxPooling2D(pool_size=(2, 2)),\n",
        "\n",
        "    Conv2D(128, (3, 3), activation='relu'),\n",
        "    MaxPooling2D(pool_size=(2, 2)),\n",
        "\n",
        "    Flatten(),\n",
        "    Dense(64, activation='relu'),\n",
        "    Dropout(0.3),\n",
        "    Dense(len(categories), activation='softmax')\n",
        "])\n"
      ],
      "metadata": {
        "id": "lrCPedS078zI",
        "colab": {
          "base_uri": "https://localhost:8080/"
        },
        "outputId": "aafcbcd4-f066-433d-d5e6-84b014e46618"
      },
      "execution_count": null,
      "outputs": [
        {
          "output_type": "stream",
          "name": "stderr",
          "text": [
            "/usr/local/lib/python3.10/dist-packages/keras/src/layers/convolutional/base_conv.py:107: UserWarning: Do not pass an `input_shape`/`input_dim` argument to a layer. When using Sequential models, prefer using an `Input(shape)` object as the first layer in the model instead.\n",
            "  super().__init__(activity_regularizer=activity_regularizer, **kwargs)\n"
          ]
        }
      ]
    },
    {
      "cell_type": "code",
      "source": [
        "model.compile(optimizer='adam',\n",
        "              loss='categorical_crossentropy',\n",
        "              metrics=['accuracy'])\n"
      ],
      "metadata": {
        "id": "1ogyBzO_79QK"
      },
      "execution_count": null,
      "outputs": []
    },
    {
      "cell_type": "code",
      "source": [
        "from tensorflow.keras.callbacks import ModelCheckpoint, EarlyStopping\n",
        "\n",
        "# Define the path to save the best model\n",
        "best_model_path = \"/content/drive/MyDrive/face_recognition_model.keras\"\n",
        "\n",
        "# Create callbacks\n",
        "checkpoint = ModelCheckpoint(\n",
        "    filepath=best_model_path,          # Path to save the best model\n",
        "    monitor='val_loss',                # Metric to monitor\n",
        "    save_best_only=True,               # Save only the model with the best val_loss\n",
        "    save_weights_only=False,           # Save the entire model (not just weights)\n",
        "    verbose=1                          # Print update messages\n",
        ")\n",
        "\n",
        "early_stopping = EarlyStopping(\n",
        "    monitor='val_loss',                # Metric to monitor\n",
        "    patience=3,                        # Stop after 3 epochs of no improvement\n",
        "    restore_best_weights=True,         # Restore model weights from the best epoch\n",
        "    verbose=1                          # Print early stopping message\n",
        ")\n",
        "\n",
        "# Train the model with callbacks\n",
        "history = model.fit(\n",
        "    X_train, y_train,\n",
        "    validation_data=(X_val, y_val),\n",
        "    epochs=10,\n",
        "    batch_size=16,\n",
        "    callbacks=[checkpoint, early_stopping]  # Add callbacks here\n",
        ")\n",
        "\n",
        "\n",
        "\n",
        "\n",
        "\n"
      ],
      "metadata": {
        "colab": {
          "base_uri": "https://localhost:8080/"
        },
        "id": "iOPWsxHB796k",
        "outputId": "f9e403dc-322a-48c6-b8fd-860e7fc1446d"
      },
      "execution_count": null,
      "outputs": [
        {
          "output_type": "stream",
          "name": "stdout",
          "text": [
            "Epoch 1/10\n",
            "\u001b[1m27/27\u001b[0m \u001b[32m━━━━━━━━━━━━━━━━━━━━\u001b[0m\u001b[37m\u001b[0m \u001b[1m0s\u001b[0m 626ms/step - accuracy: 0.4543 - loss: 1.3505\n",
            "Epoch 1: val_loss improved from inf to 0.51264, saving model to /content/drive/MyDrive/face_recognition_model.keras\n",
            "\u001b[1m27/27\u001b[0m \u001b[32m━━━━━━━━━━━━━━━━━━━━\u001b[0m\u001b[37m\u001b[0m \u001b[1m20s\u001b[0m 697ms/step - accuracy: 0.4602 - loss: 1.3368 - val_accuracy: 0.8302 - val_loss: 0.5126\n",
            "Epoch 2/10\n",
            "\u001b[1m27/27\u001b[0m \u001b[32m━━━━━━━━━━━━━━━━━━━━\u001b[0m\u001b[37m\u001b[0m \u001b[1m0s\u001b[0m 746ms/step - accuracy: 0.8925 - loss: 0.3885\n",
            "Epoch 2: val_loss improved from 0.51264 to 0.20018, saving model to /content/drive/MyDrive/face_recognition_model.keras\n",
            "\u001b[1m27/27\u001b[0m \u001b[32m━━━━━━━━━━━━━━━━━━━━\u001b[0m\u001b[37m\u001b[0m \u001b[1m23s\u001b[0m 799ms/step - accuracy: 0.8928 - loss: 0.3862 - val_accuracy: 0.9340 - val_loss: 0.2002\n",
            "Epoch 3/10\n",
            "\u001b[1m27/27\u001b[0m \u001b[32m━━━━━━━━━━━━━━━━━━━━\u001b[0m\u001b[37m\u001b[0m \u001b[1m0s\u001b[0m 637ms/step - accuracy: 0.9389 - loss: 0.1666\n",
            "Epoch 3: val_loss improved from 0.20018 to 0.09484, saving model to /content/drive/MyDrive/face_recognition_model.keras\n",
            "\u001b[1m27/27\u001b[0m \u001b[32m━━━━━━━━━━━━━━━━━━━━\u001b[0m\u001b[37m\u001b[0m \u001b[1m38s\u001b[0m 690ms/step - accuracy: 0.9392 - loss: 0.1662 - val_accuracy: 0.9528 - val_loss: 0.0948\n",
            "Epoch 4/10\n",
            "\u001b[1m27/27\u001b[0m \u001b[32m━━━━━━━━━━━━━━━━━━━━\u001b[0m\u001b[37m\u001b[0m \u001b[1m0s\u001b[0m 656ms/step - accuracy: 0.9737 - loss: 0.0929\n",
            "Epoch 4: val_loss did not improve from 0.09484\n",
            "\u001b[1m27/27\u001b[0m \u001b[32m━━━━━━━━━━━━━━━━━━━━\u001b[0m\u001b[37m\u001b[0m \u001b[1m21s\u001b[0m 690ms/step - accuracy: 0.9733 - loss: 0.0937 - val_accuracy: 0.9340 - val_loss: 0.1297\n",
            "Epoch 5/10\n",
            "\u001b[1m27/27\u001b[0m \u001b[32m━━━━━━━━━━━━━━━━━━━━\u001b[0m\u001b[37m\u001b[0m \u001b[1m0s\u001b[0m 625ms/step - accuracy: 0.9715 - loss: 0.0950\n",
            "Epoch 5: val_loss did not improve from 0.09484\n",
            "\u001b[1m27/27\u001b[0m \u001b[32m━━━━━━━━━━━━━━━━━━━━\u001b[0m\u001b[37m\u001b[0m \u001b[1m22s\u001b[0m 724ms/step - accuracy: 0.9717 - loss: 0.0944 - val_accuracy: 0.9340 - val_loss: 0.0959\n",
            "Epoch 6/10\n",
            "\u001b[1m27/27\u001b[0m \u001b[32m━━━━━━━━━━━━━━━━━━━━\u001b[0m\u001b[37m\u001b[0m \u001b[1m0s\u001b[0m 616ms/step - accuracy: 0.9703 - loss: 0.0649\n",
            "Epoch 6: val_loss did not improve from 0.09484\n",
            "\u001b[1m27/27\u001b[0m \u001b[32m━━━━━━━━━━━━━━━━━━━━\u001b[0m\u001b[37m\u001b[0m \u001b[1m18s\u001b[0m 650ms/step - accuracy: 0.9705 - loss: 0.0647 - val_accuracy: 0.9434 - val_loss: 0.1272\n",
            "Epoch 6: early stopping\n",
            "Restoring model weights from the end of the best epoch: 3.\n"
          ]
        }
      ]
    },
    {
      "cell_type": "code",
      "source": [
        "import matplotlib.pyplot as plt\n",
        "\n",
        "\n",
        "plt.figure(figsize=(15,8))\n",
        "plt.subplot(1,2,1)\n",
        "plt.plot(history.history['accuracy'], 'o-', label='Training Accuracy')\n",
        "plt.plot(history.history['val_accuracy'], 'o-', label = 'Validation Accuracy')\n",
        "plt.xlabel('Epoch')\n",
        "plt.ylabel('Accuracy')\n",
        "plt.grid(True)\n",
        "plt.legend(loc='lower right')\n",
        "\n",
        "plt.subplot(1,2,2)\n",
        "plt.plot(history.history['loss'], 'o-', label='Training loss')\n",
        "plt.plot(history.history['val_loss'], 'o-', label='Validation loss')\n",
        "plt.xlabel('Epoch')\n",
        "plt.ylabel('Loss')\n",
        "plt.grid(True)\n",
        "plt.legend(loc='upper right')\n",
        "\n",
        "plt.show()\n"
      ],
      "metadata": {
        "colab": {
          "base_uri": "https://localhost:8080/",
          "height": 660
        },
        "id": "dJRNc_7x_xXZ",
        "outputId": "156b9ce3-b60f-4411-ba47-485bed2ac2df"
      },
      "execution_count": null,
      "outputs": [
        {
          "output_type": "display_data",
          "data": {
            "text/plain": [
              "<Figure size 1500x800 with 2 Axes>"
            ],
            "image/png": "[encoded data removed]"
          },
          "metadata": {}
        }
      ]
    },
    {
      "cell_type": "code",
      "source": [
        "model.summary()\n"
      ],
      "metadata": {
        "colab": {
          "base_uri": "https://localhost:8080/",
          "height": 397
        },
        "id": "IX2HscWf7-S9",
        "outputId": "815581fe-989a-4d76-ac68-dd8919557fdc"
      },
      "execution_count": null,
      "outputs": [
        {
          "output_type": "display_data",
          "data": {
            "text/plain": [
              "\u001b[1mModel: \"sequential_1\"\u001b[0m\n"
            ],
            "text/html": [
              "<pre style=\"white-space:pre;overflow-x:auto;line-height:normal;font-family:Menlo,'DejaVu Sans Mono',consolas,'Courier New',monospace\"><span style=\"font-weight: bold\">Model: \"sequential_1\"</span>\n",
              "</pre>\n"
            ]
          },
          "metadata": {}
        },
        {
          "output_type": "display_data",
          "data": {
            "text/plain": [
              "┏━━━━━━━━━━━━━━━━━━━━━━━━━━━━━━━━━━━━━━┳━━━━━━━━━━━━━━━━━━━━━━━━━━━━━┳━━━━━━━━━━━━━━━━━┓\n",
              "┃\u001b[1m \u001b[0m\u001b[1mLayer (type)                        \u001b[0m\u001b[1m \u001b[0m┃\u001b[1m \u001b[0m\u001b[1mOutput Shape               \u001b[0m\u001b[1m \u001b[0m┃\u001b[1m \u001b[0m\u001b[1m        Param #\u001b[0m\u001b[1m \u001b[0m┃\n",
              "┡━━━━━━━━━━━━━━━━━━━━━━━━━━━━━━━━━━━━━━╇━━━━━━━━━━━━━━━━━━━━━━━━━━━━━╇━━━━━━━━━━━━━━━━━┩\n",
              "│ conv2d_2 (\u001b[38;5;33mConv2D\u001b[0m)                    │ (\u001b[38;5;45mNone\u001b[0m, \u001b[38;5;34m126\u001b[0m, \u001b[38;5;34m126\u001b[0m, \u001b[38;5;34m32\u001b[0m)        │             \u001b[38;5;34m896\u001b[0m │\n",
              "├──────────────────────────────────────┼─────────────────────────────┼─────────────────┤\n",
              "│ max_pooling2d_2 (\u001b[38;5;33mMaxPooling2D\u001b[0m)       │ (\u001b[38;5;45mNone\u001b[0m, \u001b[38;5;34m63\u001b[0m, \u001b[38;5;34m63\u001b[0m, \u001b[38;5;34m32\u001b[0m)          │               \u001b[38;5;34m0\u001b[0m │\n",
              "├──────────────────────────────────────┼─────────────────────────────┼─────────────────┤\n",
              "│ conv2d_3 (\u001b[38;5;33mConv2D\u001b[0m)                    │ (\u001b[38;5;45mNone\u001b[0m, \u001b[38;5;34m61\u001b[0m, \u001b[38;5;34m61\u001b[0m, \u001b[38;5;34m128\u001b[0m)         │          \u001b[38;5;34m36,992\u001b[0m │\n",
              "├──────────────────────────────────────┼─────────────────────────────┼─────────────────┤\n",
              "│ max_pooling2d_3 (\u001b[38;5;33mMaxPooling2D\u001b[0m)       │ (\u001b[38;5;45mNone\u001b[0m, \u001b[38;5;34m30\u001b[0m, \u001b[38;5;34m30\u001b[0m, \u001b[38;5;34m128\u001b[0m)         │               \u001b[38;5;34m0\u001b[0m │\n",
              "├──────────────────────────────────────┼─────────────────────────────┼─────────────────┤\n",
              "│ flatten_1 (\u001b[38;5;33mFlatten\u001b[0m)                  │ (\u001b[38;5;45mNone\u001b[0m, \u001b[38;5;34m115200\u001b[0m)              │               \u001b[38;5;34m0\u001b[0m │\n",
              "├──────────────────────────────────────┼─────────────────────────────┼─────────────────┤\n",
              "│ dense_2 (\u001b[38;5;33mDense\u001b[0m)                      │ (\u001b[38;5;45mNone\u001b[0m, \u001b[38;5;34m64\u001b[0m)                  │       \u001b[38;5;34m7,372,864\u001b[0m │\n",
              "├──────────────────────────────────────┼─────────────────────────────┼─────────────────┤\n",
              "│ dropout_1 (\u001b[38;5;33mDropout\u001b[0m)                  │ (\u001b[38;5;45mNone\u001b[0m, \u001b[38;5;34m64\u001b[0m)                  │               \u001b[38;5;34m0\u001b[0m │\n",
              "├──────────────────────────────────────┼─────────────────────────────┼─────────────────┤\n",
              "│ dense_3 (\u001b[38;5;33mDense\u001b[0m)                      │ (\u001b[38;5;45mNone\u001b[0m, \u001b[38;5;34m4\u001b[0m)                   │             \u001b[38;5;34m260\u001b[0m │\n",
              "└──────────────────────────────────────┴─────────────────────────────┴─────────────────┘\n"
            ],
            "text/html": [
              "<pre style=\"white-space:pre;overflow-x:auto;line-height:normal;font-family:Menlo,'DejaVu Sans Mono',consolas,'Courier New',monospace\">┏━━━━━━━━━━━━━━━━━━━━━━━━━━━━━━━━━━━━━━┳━━━━━━━━━━━━━━━━━━━━━━━━━━━━━┳━━━━━━━━━━━━━━━━━┓\n",
              "┃<span style=\"font-weight: bold\"> Layer (type)                         </span>┃<span style=\"font-weight: bold\"> Output Shape                </span>┃<span style=\"font-weight: bold\">         Param # </span>┃\n",
              "┡━━━━━━━━━━━━━━━━━━━━━━━━━━━━━━━━━━━━━━╇━━━━━━━━━━━━━━━━━━━━━━━━━━━━━╇━━━━━━━━━━━━━━━━━┩\n",
              "│ conv2d_2 (<span style=\"color: #0087ff; text-decoration-color: #0087ff\">Conv2D</span>)                    │ (<span style=\"color: #00d7ff; text-decoration-color: #00d7ff\">None</span>, <span style=\"color: #00af00; text-decoration-color: #00af00\">126</span>, <span style=\"color: #00af00; text-decoration-color: #00af00\">126</span>, <span style=\"color: #00af00; text-decoration-color: #00af00\">32</span>)        │             <span style=\"color: #00af00; text-decoration-color: #00af00\">896</span> │\n",
              "├──────────────────────────────────────┼─────────────────────────────┼─────────────────┤\n",
              "│ max_pooling2d_2 (<span style=\"color: #0087ff; text-decoration-color: #0087ff\">MaxPooling2D</span>)       │ (<span style=\"color: #00d7ff; text-decoration-color: #00d7ff\">None</span>, <span style=\"color: #00af00; text-decoration-color: #00af00\">63</span>, <span style=\"color: #00af00; text-decoration-color: #00af00\">63</span>, <span style=\"color: #00af00; text-decoration-color: #00af00\">32</span>)          │               <span style=\"color: #00af00; text-decoration-color: #00af00\">0</span> │\n",
              "├──────────────────────────────────────┼─────────────────────────────┼─────────────────┤\n",
              "│ conv2d_3 (<span style=\"color: #0087ff; text-decoration-color: #0087ff\">Conv2D</span>)                    │ (<span style=\"color: #00d7ff; text-decoration-color: #00d7ff\">None</span>, <span style=\"color: #00af00; text-decoration-color: #00af00\">61</span>, <span style=\"color: #00af00; text-decoration-color: #00af00\">61</span>, <span style=\"color: #00af00; text-decoration-color: #00af00\">128</span>)         │          <span style=\"color: #00af00; text-decoration-color: #00af00\">36,992</span> │\n",
              "├──────────────────────────────────────┼─────────────────────────────┼─────────────────┤\n",
              "│ max_pooling2d_3 (<span style=\"color: #0087ff; text-decoration-color: #0087ff\">MaxPooling2D</span>)       │ (<span style=\"color: #00d7ff; text-decoration-color: #00d7ff\">None</span>, <span style=\"color: #00af00; text-decoration-color: #00af00\">30</span>, <span style=\"color: #00af00; text-decoration-color: #00af00\">30</span>, <span style=\"color: #00af00; text-decoration-color: #00af00\">128</span>)         │               <span style=\"color: #00af00; text-decoration-color: #00af00\">0</span> │\n",
              "├──────────────────────────────────────┼─────────────────────────────┼─────────────────┤\n",
              "│ flatten_1 (<span style=\"color: #0087ff; text-decoration-color: #0087ff\">Flatten</span>)                  │ (<span style=\"color: #00d7ff; text-decoration-color: #00d7ff\">None</span>, <span style=\"color: #00af00; text-decoration-color: #00af00\">115200</span>)              │               <span style=\"color: #00af00; text-decoration-color: #00af00\">0</span> │\n",
              "├──────────────────────────────────────┼─────────────────────────────┼─────────────────┤\n",
              "│ dense_2 (<span style=\"color: #0087ff; text-decoration-color: #0087ff\">Dense</span>)                      │ (<span style=\"color: #00d7ff; text-decoration-color: #00d7ff\">None</span>, <span style=\"color: #00af00; text-decoration-color: #00af00\">64</span>)                  │       <span style=\"color: #00af00; text-decoration-color: #00af00\">7,372,864</span> │\n",
              "├──────────────────────────────────────┼─────────────────────────────┼─────────────────┤\n",
              "│ dropout_1 (<span style=\"color: #0087ff; text-decoration-color: #0087ff\">Dropout</span>)                  │ (<span style=\"color: #00d7ff; text-decoration-color: #00d7ff\">None</span>, <span style=\"color: #00af00; text-decoration-color: #00af00\">64</span>)                  │               <span style=\"color: #00af00; text-decoration-color: #00af00\">0</span> │\n",
              "├──────────────────────────────────────┼─────────────────────────────┼─────────────────┤\n",
              "│ dense_3 (<span style=\"color: #0087ff; text-decoration-color: #0087ff\">Dense</span>)                      │ (<span style=\"color: #00d7ff; text-decoration-color: #00d7ff\">None</span>, <span style=\"color: #00af00; text-decoration-color: #00af00\">4</span>)                   │             <span style=\"color: #00af00; text-decoration-color: #00af00\">260</span> │\n",
              "└──────────────────────────────────────┴─────────────────────────────┴─────────────────┘\n",
              "</pre>\n"
            ]
          },
          "metadata": {}
        },
        {
          "output_type": "display_data",
          "data": {
            "text/plain": [
              "\u001b[1m Total params: \u001b[0m\u001b[38;5;34m22,233,038\u001b[0m (84.81 MB)\n"
            ],
            "text/html": [
              "<pre style=\"white-space:pre;overflow-x:auto;line-height:normal;font-family:Menlo,'DejaVu Sans Mono',consolas,'Courier New',monospace\"><span style=\"font-weight: bold\"> Total params: </span><span style=\"color: #00af00; text-decoration-color: #00af00\">22,233,038</span> (84.81 MB)\n",
              "</pre>\n"
            ]
          },
          "metadata": {}
        },
        {
          "output_type": "display_data",
          "data": {
            "text/plain": [
              "\u001b[1m Trainable params: \u001b[0m\u001b[38;5;34m7,411,012\u001b[0m (28.27 MB)\n"
            ],
            "text/html": [
              "<pre style=\"white-space:pre;overflow-x:auto;line-height:normal;font-family:Menlo,'DejaVu Sans Mono',consolas,'Courier New',monospace\"><span style=\"font-weight: bold\"> Trainable params: </span><span style=\"color: #00af00; text-decoration-color: #00af00\">7,411,012</span> (28.27 MB)\n",
              "</pre>\n"
            ]
          },
          "metadata": {}
        },
        {
          "output_type": "display_data",
          "data": {
            "text/plain": [
              "\u001b[1m Non-trainable params: \u001b[0m\u001b[38;5;34m0\u001b[0m (0.00 B)\n"
            ],
            "text/html": [
              "<pre style=\"white-space:pre;overflow-x:auto;line-height:normal;font-family:Menlo,'DejaVu Sans Mono',consolas,'Courier New',monospace\"><span style=\"font-weight: bold\"> Non-trainable params: </span><span style=\"color: #00af00; text-decoration-color: #00af00\">0</span> (0.00 B)\n",
              "</pre>\n"
            ]
          },
          "metadata": {}
        },
        {
          "output_type": "display_data",
          "data": {
            "text/plain": [
              "\u001b[1m Optimizer params: \u001b[0m\u001b[38;5;34m14,822,026\u001b[0m (56.54 MB)\n"
            ],
            "text/html": [
              "<pre style=\"white-space:pre;overflow-x:auto;line-height:normal;font-family:Menlo,'DejaVu Sans Mono',consolas,'Courier New',monospace\"><span style=\"font-weight: bold\"> Optimizer params: </span><span style=\"color: #00af00; text-decoration-color: #00af00\">14,822,026</span> (56.54 MB)\n",
              "</pre>\n"
            ]
          },
          "metadata": {}
        }
      ]
    },
    {
      "cell_type": "code",
      "source": [
        "# Save label encoder, images, and category names\n",
        "with open(os.path.join(output_path, 'label_encoder.pkl'), 'wb') as f:\n",
        "    pickle.dump(le, f)\n",
        "\n",
        "\n",
        "with open(os.path.join(output_path, 'data.pkl'), 'wb') as f:\n",
        "    pickle.dump({'X_train': X_train, 'X_val': X_val, 'y_train': y_train, 'y_val': y_val}, f)\n"
      ],
      "metadata": {
        "id": "TRywyWls7-uB"
      },
      "execution_count": null,
      "outputs": []
    },
    {
      "cell_type": "code",
      "source": [
        "import logging\n",
        "\n",
        "# Suppress TensorFlow warnings about saving in HDF5 format\n",
        "logging.getLogger('absl').setLevel(logging.ERROR)\n",
        "\n",
        "# Save the model in HDF5 format\n",
        "model_path = os.path.join(output_path, 'model.h5')\n",
        "model.save(model_path)\n",
        "print(f\"Model saved to {model_path}\")\n"
      ],
      "metadata": {
        "colab": {
          "base_uri": "https://localhost:8080/"
        },
        "id": "la9Na3hkBqFD",
        "outputId": "e2e4aa3b-adba-497d-e09d-3f9ae138ed38"
      },
      "execution_count": null,
      "outputs": [
        {
          "output_type": "stream",
          "name": "stdout",
          "text": [
            "Model saved to /content/drive/My Drive/model.h5\n"
          ]
        }
      ]
    },
    {
      "cell_type": "code",
      "source": [
        "with open(\"/content/drive/My Drive/categories.pkl\", \"wb\") as file:\n",
        "    pickle.dump(category_names, file)\n",
        "print(\"Category mapping saved:\", category_names)"
      ],
      "metadata": {
        "colab": {
          "base_uri": "https://localhost:8080/"
        },
        "id": "gltsKX52ffbA",
        "outputId": "1c848bb5-dc95-4206-8e29-b12d4206bc11"
      },
      "execution_count": null,
      "outputs": [
        {
          "output_type": "stream",
          "name": "stdout",
          "text": [
            "Category mapping saved: {0: 'Faysal', 1: 'Mohim', 2: 'Tanzil', 3: 'Tareq'}\n"
          ]
        }
      ]
    },
    {
      "cell_type": "code",
      "source": [
        "import cv2\n",
        "import numpy as np\n",
        "from tensorflow.keras.models import load_model\n",
        "import matplotlib.pyplot as plt\n",
        "import pickle\n",
        "\n",
        "# Load the saved model\n",
        "model = load_model('/content/drive/MyDrive/face_recognition_model.keras')\n",
        "\n",
        "# Load the label encoder or class labels\n",
        "with open('/content/drive/MyDrive/categories.pkl', 'rb') as f:\n",
        "    class_labels = pickle.load(f)\n",
        "\n",
        "# Haar cascade path for face detection\n",
        "haarcascade_path = cv2.data.haarcascades + 'haarcascade_frontalface_default.xml'\n",
        "face_cascade = cv2.CascadeClassifier(haarcascade_path)\n",
        "\n",
        "# Function to preprocess the face\n",
        "def preprocess_face(face, target_shape):\n",
        "    normalized_face = cv2.resize(face, (target_shape[1], target_shape[2])) / 255.0\n",
        "    face_array = np.expand_dims(normalized_face, axis=0)\n",
        "    return face_array\n",
        "\n",
        "# Function to recognize and display the result\n",
        "def recognize_image_with_haarcascade(image_path, confidence_threshold=0.7):\n",
        "    # Read the image\n",
        "    img = cv2.imread(image_path)\n",
        "    if img is None:\n",
        "        print(f\"Error: Unable to load image from {image_path}\")\n",
        "        return\n",
        "\n",
        "    # Convert the image to grayscale for Haar cascade\n",
        "    gray = cv2.cvtColor(img, cv2.COLOR_BGR2GRAY)\n",
        "    faces = face_cascade.detectMultiScale(gray, scaleFactor=1.1, minNeighbors=5, minSize=(30, 30))\n",
        "\n",
        "    if len(faces) == 0:\n",
        "        print(\"No face detected.\")\n",
        "        return\n",
        "\n",
        "    # Process the first detected face\n",
        "    x, y, w, h = faces[0]\n",
        "    face = img[y:y+h, x:x+w]  # Crop the detected face\n",
        "\n",
        "    # Preprocess the face\n",
        "    face_array = preprocess_face(face, model.input_shape)\n",
        "\n",
        "    # Predict the label\n",
        "    predictions = model.predict(face_array, verbose=0)\n",
        "    confidence = np.max(predictions)\n",
        "    label_index = np.argmax(predictions)\n",
        "    label = class_labels[label_index] if confidence >= confidence_threshold else \"Unknown\"\n",
        "\n",
        "    # Display the result\n",
        "    cv2.rectangle(img, (x, y), (x+w, y+h), (0, 255, 0), 2)\n",
        "    cv2.putText(\n",
        "        img,\n",
        "        f\"{label} ({confidence*100:.2f}%)\",\n",
        "        (x, y - 10),\n",
        "        cv2.FONT_HERSHEY_SIMPLEX,\n",
        "        0.9,\n",
        "        (255, 0, 0),\n",
        "        2,\n",
        "    )\n",
        "\n",
        "    # Display the image\n",
        "    plt.imshow(cv2.cvtColor(img, cv2.COLOR_BGR2RGB))\n",
        "    plt.axis('off')\n",
        "    plt.title(f\" {label} --->{confidence*100:.2f}%\")\n",
        "    plt.show()\n",
        "\n",
        "# Path to the image you want to recognize\n",
        "image_path = '/content/drive/MyDrive/test/tanzil/WIN_20241129_19_27_06_Pro.jpg'  # Update this to your image path\n",
        "\n",
        "# Recognize the image using Haar cascade\n",
        "recognize_image_with_haarcascade(image_path, confidence_threshold=0.85)\n"
      ],
      "metadata": {
        "id": "RL7jNW3CBQ-5"
      },
      "execution_count": null,
      "outputs": []
    }
  ]
}