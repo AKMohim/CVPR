{
  "nbformat": 4,
  "nbformat_minor": 0,
  "metadata": {
    "colab": {
      "provenance": []
    },
    "kernelspec": {
      "name": "python3",
      "display_name": "Python 3"
    },
    "language_info": {
      "name": "python"
    }
  },
  "cells": [
    {
      "cell_type": "code",
      "source": [
        "import numpy as np\n",
        "import matplotlib.pyplot as plt\n",
        "import pandas as pd\n",
        "\n",
        "data = pd.read_csv('dataset.csv')\n",
        "\n",
        "# Features and labels\n",
        "X = data[['Class1', 'Class2']].values\n",
        "Y = data['Class3'].values.reshape(-1, 1)\n",
        "\n",
        "# Normalize inputs\n",
        "X = X / np.max(X, axis=0)\n"
      ],
      "metadata": {
        "id": "u4Fq6Sq-jDE2"
      },
      "execution_count": 1,
      "outputs": []
    },
    {
      "cell_type": "code",
      "source": [
        "class NeuralNetwork(object):\n",
        "    def __init__(self):\n",
        "        inputLayerNeurons = 2  # Two input features\n",
        "        hiddenLayer1Neurons = 8\n",
        "        hiddenLayer2Neurons = 8\n",
        "        hiddenLayer3Neurons = 8\n",
        "        outLayerNeurons = 3  # Three output classes\n",
        "\n",
        "        self.learning_rate = 0.01\n",
        "\n",
        "        # Initialize weights and biases\n",
        "        self.W_H1 = np.random.randn(inputLayerNeurons, hiddenLayer1Neurons) * 0.1\n",
        "        self.W_H2 = np.random.randn(hiddenLayer1Neurons, hiddenLayer2Neurons) * 0.1\n",
        "        self.W_H3 = np.random.randn(hiddenLayer2Neurons, hiddenLayer3Neurons) * 0.1\n",
        "        self.W_OH = np.random.randn(hiddenLayer3Neurons, outLayerNeurons) * 0.1\n",
        "\n",
        "        self.b_H1 = np.zeros((1, hiddenLayer1Neurons))\n",
        "        self.b_H2 = np.zeros((1, hiddenLayer2Neurons))\n",
        "        self.b_H3 = np.zeros((1, hiddenLayer3Neurons))\n",
        "        self.b_OH = np.zeros((1, outLayerNeurons))\n",
        "\n",
        "    def sigmoid(self, x, der=False):\n",
        "        if der:\n",
        "            return x * (1 - x)\n",
        "        return 1 / (1 + np.exp(-x))\n",
        "\n",
        "    def softmax(self, x):\n",
        "        exp_x = np.exp(x - np.max(x, axis=1, keepdims=True))\n",
        "        return exp_x / np.sum(exp_x, axis=1, keepdims=True)\n",
        "\n",
        "    def feedForward(self, X):\n",
        "        # Forward pass\n",
        "        self.Z_H1 = np.dot(X, self.W_H1) + self.b_H1\n",
        "        self.A_H1 = self.sigmoid(self.Z_H1)\n",
        "\n",
        "        self.Z_H2 = np.dot(self.A_H1, self.W_H2) + self.b_H2\n",
        "        self.A_H2 = self.sigmoid(self.Z_H2)\n",
        "\n",
        "        self.Z_H3 = np.dot(self.A_H2, self.W_H3) + self.b_H3\n",
        "        self.A_H3 = self.sigmoid(self.Z_H3)\n",
        "\n",
        "        self.Z_OH = np.dot(self.A_H3, self.W_OH) + self.b_OH\n",
        "        pred = self.softmax(self.Z_OH)\n",
        "        return pred\n",
        "\n",
        "    def backPropagation(self, X, Y, pred):\n",
        "        # Backpropagation for softmax and sigmoid layers\n",
        "        m = X.shape[0]\n",
        "\n",
        "        output_error = pred - Y\n",
        "        dW_OH = np.dot(self.A_H3.T, output_error) / m\n",
        "        db_OH = np.sum(output_error, axis=0, keepdims=True) / m\n",
        "\n",
        "        hidden3_error = np.dot(output_error, self.W_OH.T) * self.sigmoid(self.A_H3, der=True)\n",
        "        dW_H3 = np.dot(self.A_H2.T, hidden3_error) / m\n",
        "        db_H3 = np.sum(hidden3_error, axis=0, keepdims=True) / m\n",
        "\n",
        "        hidden2_error = np.dot(hidden3_error, self.W_H3.T) * self.sigmoid(self.A_H2, der=True)\n",
        "        dW_H2 = np.dot(self.A_H1.T, hidden2_error) / m\n",
        "        db_H2 = np.sum(hidden2_error, axis=0, keepdims=True) / m\n",
        "\n",
        "        hidden1_error = np.dot(hidden2_error, self.W_H2.T) * self.sigmoid(self.A_H1, der=True)\n",
        "        dW_H1 = np.dot(X.T, hidden1_error) / m\n",
        "        db_H1 = np.sum(hidden1_error, axis=0, keepdims=True) / m\n",
        "\n",
        "        # Update weights and biases\n",
        "        self.W_OH -= self.learning_rate * dW_OH\n",
        "        self.b_OH -= self.learning_rate * db_OH\n",
        "\n",
        "        self.W_H3 -= self.learning_rate * dW_H3\n",
        "        self.b_H3 -= self.learning_rate * db_H3\n",
        "\n",
        "        self.W_H2 -= self.learning_rate * dW_H2\n",
        "        self.b_H2 -= self.learning_rate * db_H2\n",
        "\n",
        "        self.W_H1 -= self.learning_rate * dW_H1\n",
        "        self.b_H1 -= self.learning_rate * db_H1\n",
        "\n",
        "    def train(self, X, Y):\n",
        "        pred = self.feedForward(X)\n",
        "        self.backPropagation(X, Y, pred)\n"
      ],
      "metadata": {
        "id": "3qalLIJGjHsY"
      },
      "execution_count": 2,
      "outputs": []
    },
    {
      "cell_type": "code",
      "source": [
        "# Initialize the neural network\n",
        "NN = NeuralNetwork()\n",
        "\n",
        "# One-hot encoding for output labels\n",
        "Y_onehot = np.zeros((Y.shape[0], 3))\n",
        "Y_onehot[np.arange(Y.shape[0]), Y.flatten()] = 1\n",
        "\n",
        "# Train the model\n",
        "epochs = 1000\n",
        "err = []\n",
        "for i in range(epochs):\n",
        "    NN.train(X, Y_onehot)\n",
        "    loss = -np.sum(Y_onehot * np.log(NN.feedForward(X) + 1e-8)) / X.shape[0]\n",
        "    err.append(loss)\n",
        "\n",
        "# Plot the loss\n",
        "plt.plot(err)\n",
        "plt.xlabel('Epochs')\n",
        "plt.ylabel('Loss')\n",
        "plt.title('Loss over time')\n",
        "plt.show()\n"
      ],
      "metadata": {
        "colab": {
          "base_uri": "https://localhost:8080/",
          "height": 472
        },
        "id": "cWnB5gPkjLC4",
        "outputId": "6112b6fd-87b9-401e-e94d-063b1471f2d6"
      },
      "execution_count": 3,
      "outputs": [
        {
          "output_type": "display_data",
          "data": {
            "text/plain": [
              "<Figure size 640x480 with 1 Axes>"
            ],
            "image/png": "[encoded data removed]"
          },
          "metadata": {}
        }
      ]
    },
    {
      "cell_type": "code",
      "source": [
        "def test_model_by_row_col(row, col1, col2):\n",
        "    input_data = X[row, [col1, col2]]\n",
        "    prediction = NN.feedForward(input_data.reshape(1, -1))\n",
        "    print(f\"Prediction for Row {row}, Columns {col1} & {col2}: {prediction}\")"
      ],
      "metadata": {
        "id": "-fmIbPsfjQ91"
      },
      "execution_count": 7,
      "outputs": []
    },
    {
      "cell_type": "code",
      "source": [
        "test_model_by_row_col(23, 0, 1)"
      ],
      "metadata": {
        "colab": {
          "base_uri": "https://localhost:8080/"
        },
        "id": "N2g7Xmftl7th",
        "outputId": "fa24a283-2661-453a-fbbc-c75cc6b10d0f"
      },
      "execution_count": 8,
      "outputs": [
        {
          "output_type": "stream",
          "name": "stdout",
          "text": [
            "Prediction for Row 23, Columns 0 & 1: [[0.4491262  0.52939579 0.02147802]]\n"
          ]
        }
      ]
    },
    {
      "cell_type": "code",
      "source": [
        "test_model_by_row_col(7, 0, 1)"
      ],
      "metadata": {
        "colab": {
          "base_uri": "https://localhost:8080/"
        },
        "id": "vKU2ZZC9mJmQ",
        "outputId": "390cad4d-d4f7-4120-a7ee-637e9f3d1128"
      },
      "execution_count": 9,
      "outputs": [
        {
          "output_type": "stream",
          "name": "stdout",
          "text": [
            "Prediction for Row 7, Columns 0 & 1: [[0.44912439 0.52939782 0.02147779]]\n"
          ]
        }
      ]
    },
    {
      "cell_type": "code",
      "source": [
        "test_model_by_row_col(44, 0, 1)"
      ],
      "metadata": {
        "colab": {
          "base_uri": "https://localhost:8080/"
        },
        "id": "15Z7WsHRmNh4",
        "outputId": "1e4336f2-3e9d-48b2-a9cd-0c000334c605"
      },
      "execution_count": 10,
      "outputs": [
        {
          "output_type": "stream",
          "name": "stdout",
          "text": [
            "Prediction for Row 44, Columns 0 & 1: [[0.44912627 0.52939727 0.02147646]]\n"
          ]
        }
      ]
    }
  ]
}
